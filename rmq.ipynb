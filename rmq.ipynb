{
 "cells": [
  {
   "cell_type": "code",
   "execution_count": 4,
   "metadata": {},
   "outputs": [
    {
     "name": "stdout",
     "output_type": "stream",
     "text": [
      "Waiting for messages. To exit press CTRL+C\n",
      "Received b'{\"key\": \"value\"}'\n",
      "Received b'{\"key\": \"value\"}'\n"
     ]
    }
   ],
   "source": [
    "import pika\n",
    "\n",
    "def callback(ch, method, properties, body):\n",
    "    print(f\"Received {body}\")\n",
    "\n",
    "def main(queue_name):\n",
    "    # Connect to RabbitMQ server\n",
    "    connection = pika.BlockingConnection(pika.ConnectionParameters(host='localhost'))\n",
    "    channel = connection.channel()\n",
    "\n",
    "    # Declare the queue\n",
    "    channel.queue_declare(queue=queue_name)\n",
    "\n",
    "    # Set up subscription on the queue\n",
    "    channel.basic_consume(queue=queue_name,\n",
    "                          auto_ack=True,\n",
    "                          on_message_callback=callback)\n",
    "\n",
    "    print('Waiting for messages. To exit press CTRL+C')\n",
    "    try:\n",
    "        # Start consuming\n",
    "        channel.start_consuming()\n",
    "    except KeyboardInterrupt:\n",
    "        channel.stop_consuming()\n",
    "    connection.close()\n",
    "\n",
    "queue_name = \"orders\"\n",
    "main(queue_name)"
   ]
  }
 ],
 "metadata": {
  "kernelspec": {
   "display_name": "Python 3",
   "language": "python",
   "name": "python3"
  },
  "language_info": {
   "codemirror_mode": {
    "name": "ipython",
    "version": 3
   },
   "file_extension": ".py",
   "mimetype": "text/x-python",
   "name": "python",
   "nbconvert_exporter": "python",
   "pygments_lexer": "ipython3",
   "version": "3.9.12"
  },
  "orig_nbformat": 4
 },
 "nbformat": 4,
 "nbformat_minor": 2
}
